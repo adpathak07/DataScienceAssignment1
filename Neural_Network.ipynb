{
  "metadata": {
    "kernelspec": {
      "language": "python",
      "display_name": "Python 3",
      "name": "python3"
    },
    "language_info": {
      "name": "python",
      "version": "3.10.13",
      "mimetype": "text/x-python",
      "codemirror_mode": {
        "name": "ipython",
        "version": 3
      },
      "pygments_lexer": "ipython3",
      "nbconvert_exporter": "python",
      "file_extension": ".py"
    },
    "kaggle": {
      "accelerator": "none",
      "dataSources": [],
      "dockerImageVersionId": 30684,
      "isInternetEnabled": false,
      "language": "python",
      "sourceType": "notebook",
      "isGpuEnabled": false
    },
    "colab": {
      "provenance": []
    }
  },
  "nbformat_minor": 0,
  "nbformat": 4,
  "cells": [
    {
      "cell_type": "markdown",
      "source": [
        "## Assignment 4\n",
        "## Name : Adarsh Pathak\n",
        "## NUID : 002830444"
      ],
      "metadata": {
        "id": "ukhJ5PJt9zGV"
      }
    },
    {
      "cell_type": "markdown",
      "source": [
        "# Neural Network Type Classification | TMNIST"
      ],
      "metadata": {
        "id": "_vLE6Xhr9zGV"
      }
    },
    {
      "cell_type": "markdown",
      "source": [
        "# Introduction:\n",
        "\n",
        "Typeface recognition is a fascinating application of computer vision and machine learning, offering valuable insights and practical use cases in fields such as document analysis and graphic design. In this tutorial, we will delve into the exciting realm of building a Convolutional Neural Network (CNN) for typeface recognition using the TMNIST dataset. Typeface recognition involves identifying different styles of handwritten digits, and the TMNIST dataset serves as an excellent starting point for developing and understanding the intricacies of such a system."
      ],
      "metadata": {
        "id": "Cu0raLFr9zGV"
      }
    },
    {
      "cell_type": "markdown",
      "source": [
        "# About the dataset:\n",
        "\n",
        "In this tutorial, I will guide you through the process of creating a CNN to recognize various typefaces represented by handwritten digits. We will use the TMNIST dataset for this. This dataset is inspired by the MNIST database for handwritten digits. It consists of images representing digits from 0-9 produced using 2,990 google fonts files.\n",
        "\n",
        "Each row contains 786 elements: the first element represents the font name (ex-Chivo-Italic, Sen-Bold), the second element represents the label (a number from 0-9) and the remaining 784 elements represent the grayscale pixel values (from 0-255) for the 28x28 pixel image."
      ],
      "metadata": {
        "id": "MMbbA__Y9zGW"
      }
    },
    {
      "cell_type": "markdown",
      "source": [
        "# Imports"
      ],
      "metadata": {
        "id": "ZAIxQDWQ9zGW"
      }
    },
    {
      "cell_type": "markdown",
      "source": [
        "**Importing all the necessary libraries**"
      ],
      "metadata": {
        "id": "e7GuXrTs9zGW"
      }
    },
    {
      "cell_type": "code",
      "source": [
        "import tensorflow as tf\n",
        "from tensorflow.keras import layers, models\n",
        "from sklearn.model_selection import train_test_split\n",
        "import numpy as np\n",
        "import matplotlib.pyplot as plt"
      ],
      "metadata": {
        "execution": {
          "iopub.status.busy": "2024-04-08T22:59:41.021010Z",
          "iopub.execute_input": "2024-04-08T22:59:41.021766Z",
          "iopub.status.idle": "2024-04-08T22:59:41.027883Z",
          "shell.execute_reply.started": "2024-04-08T22:59:41.021729Z",
          "shell.execute_reply": "2024-04-08T22:59:41.026690Z"
        },
        "trusted": true,
        "id": "lPfEy1jc9zGW"
      },
      "execution_count": 7,
      "outputs": []
    },
    {
      "cell_type": "markdown",
      "source": [
        "Leveraging TensorFlow's platform for data automation, model tracking, and performance monitoring is crucial for successful model retraining. Utilizing its high-level neural networks API, tf.keras, we import layers and models to define our neural network architecture."
      ],
      "metadata": {
        "id": "NjoGuauL9zGW"
      }
    },
    {
      "cell_type": "code",
      "source": [
        "import pandas as pd\n",
        "from keras.models import Sequential\n",
        "from keras.layers import Conv2D, MaxPooling2D, Flatten, Dense, Dropout\n",
        "from sklearn.metrics import confusion_matrix\n",
        "import seaborn as sns"
      ],
      "metadata": {
        "execution": {
          "iopub.status.busy": "2024-04-08T23:00:04.092564Z",
          "iopub.execute_input": "2024-04-08T23:00:04.092946Z",
          "iopub.status.idle": "2024-04-08T23:00:04.099923Z",
          "shell.execute_reply.started": "2024-04-08T23:00:04.092917Z",
          "shell.execute_reply": "2024-04-08T23:00:04.097652Z"
        },
        "trusted": true,
        "id": "Wp7uxbvh9zGW"
      },
      "execution_count": 60,
      "outputs": []
    },
    {
      "cell_type": "markdown",
      "source": [
        "Importing necessary layers and modules from Keras for building a convolutional neural network (CNN)."
      ],
      "metadata": {
        "id": "lFF-laNX9zGW"
      }
    },
    {
      "cell_type": "markdown",
      "source": [
        "# Loading and transforming the dataset"
      ],
      "metadata": {
        "id": "7ssI67vY9zGW"
      }
    },
    {
      "cell_type": "code",
      "source": [
        "data = pd.read_csv('TMNIST_Data.csv')\n",
        "data.head()"
      ],
      "metadata": {
        "colab": {
          "base_uri": "https://localhost:8080/",
          "height": 235
        },
        "id": "dYZ_e_-yAN4W",
        "outputId": "a878f218-95cf-4c7a-9902-31cbf309c55b"
      },
      "execution_count": 9,
      "outputs": [
        {
          "output_type": "execute_result",
          "data": {
            "text/plain": [
              "                        names  labels  1  2  3  4  5  6  7  8  ...  775  776  \\\n",
              "0          GrandHotel-Regular       2  0  0  0  0  0  0  0  0  ...    0    0   \n",
              "1  EncodeSansCondensed-Medium       8  0  0  0  0  0  0  0  0  ...    0    0   \n",
              "2              Varela-Regular       4  0  0  0  0  0  0  0  0  ...    0    0   \n",
              "3              ArefRuqaa-Bold       3  0  0  0  0  0  0  0  0  ...    0    0   \n",
              "4           KulimPark-Regular       1  0  0  0  0  0  0  0  0  ...    0    0   \n",
              "\n",
              "   777  778  779  780  781  782  783  784  \n",
              "0    0    0    0    0    0    0    0    0  \n",
              "1    0    0    0    0    0    0    0    0  \n",
              "2    0    0    0    0    0    0    0    0  \n",
              "3    0    0    0    0    0    0    0    0  \n",
              "4    0    0    0    0    0    0    0    0  \n",
              "\n",
              "[5 rows x 786 columns]"
            ],
            "text/html": [
              "\n",
              "  <div id=\"df-28c1066f-b7d8-4526-be65-228d3b2b2d67\" class=\"colab-df-container\">\n",
              "    <div>\n",
              "<style scoped>\n",
              "    .dataframe tbody tr th:only-of-type {\n",
              "        vertical-align: middle;\n",
              "    }\n",
              "\n",
              "    .dataframe tbody tr th {\n",
              "        vertical-align: top;\n",
              "    }\n",
              "\n",
              "    .dataframe thead th {\n",
              "        text-align: right;\n",
              "    }\n",
              "</style>\n",
              "<table border=\"1\" class=\"dataframe\">\n",
              "  <thead>\n",
              "    <tr style=\"text-align: right;\">\n",
              "      <th></th>\n",
              "      <th>names</th>\n",
              "      <th>labels</th>\n",
              "      <th>1</th>\n",
              "      <th>2</th>\n",
              "      <th>3</th>\n",
              "      <th>4</th>\n",
              "      <th>5</th>\n",
              "      <th>6</th>\n",
              "      <th>7</th>\n",
              "      <th>8</th>\n",
              "      <th>...</th>\n",
              "      <th>775</th>\n",
              "      <th>776</th>\n",
              "      <th>777</th>\n",
              "      <th>778</th>\n",
              "      <th>779</th>\n",
              "      <th>780</th>\n",
              "      <th>781</th>\n",
              "      <th>782</th>\n",
              "      <th>783</th>\n",
              "      <th>784</th>\n",
              "    </tr>\n",
              "  </thead>\n",
              "  <tbody>\n",
              "    <tr>\n",
              "      <th>0</th>\n",
              "      <td>GrandHotel-Regular</td>\n",
              "      <td>2</td>\n",
              "      <td>0</td>\n",
              "      <td>0</td>\n",
              "      <td>0</td>\n",
              "      <td>0</td>\n",
              "      <td>0</td>\n",
              "      <td>0</td>\n",
              "      <td>0</td>\n",
              "      <td>0</td>\n",
              "      <td>...</td>\n",
              "      <td>0</td>\n",
              "      <td>0</td>\n",
              "      <td>0</td>\n",
              "      <td>0</td>\n",
              "      <td>0</td>\n",
              "      <td>0</td>\n",
              "      <td>0</td>\n",
              "      <td>0</td>\n",
              "      <td>0</td>\n",
              "      <td>0</td>\n",
              "    </tr>\n",
              "    <tr>\n",
              "      <th>1</th>\n",
              "      <td>EncodeSansCondensed-Medium</td>\n",
              "      <td>8</td>\n",
              "      <td>0</td>\n",
              "      <td>0</td>\n",
              "      <td>0</td>\n",
              "      <td>0</td>\n",
              "      <td>0</td>\n",
              "      <td>0</td>\n",
              "      <td>0</td>\n",
              "      <td>0</td>\n",
              "      <td>...</td>\n",
              "      <td>0</td>\n",
              "      <td>0</td>\n",
              "      <td>0</td>\n",
              "      <td>0</td>\n",
              "      <td>0</td>\n",
              "      <td>0</td>\n",
              "      <td>0</td>\n",
              "      <td>0</td>\n",
              "      <td>0</td>\n",
              "      <td>0</td>\n",
              "    </tr>\n",
              "    <tr>\n",
              "      <th>2</th>\n",
              "      <td>Varela-Regular</td>\n",
              "      <td>4</td>\n",
              "      <td>0</td>\n",
              "      <td>0</td>\n",
              "      <td>0</td>\n",
              "      <td>0</td>\n",
              "      <td>0</td>\n",
              "      <td>0</td>\n",
              "      <td>0</td>\n",
              "      <td>0</td>\n",
              "      <td>...</td>\n",
              "      <td>0</td>\n",
              "      <td>0</td>\n",
              "      <td>0</td>\n",
              "      <td>0</td>\n",
              "      <td>0</td>\n",
              "      <td>0</td>\n",
              "      <td>0</td>\n",
              "      <td>0</td>\n",
              "      <td>0</td>\n",
              "      <td>0</td>\n",
              "    </tr>\n",
              "    <tr>\n",
              "      <th>3</th>\n",
              "      <td>ArefRuqaa-Bold</td>\n",
              "      <td>3</td>\n",
              "      <td>0</td>\n",
              "      <td>0</td>\n",
              "      <td>0</td>\n",
              "      <td>0</td>\n",
              "      <td>0</td>\n",
              "      <td>0</td>\n",
              "      <td>0</td>\n",
              "      <td>0</td>\n",
              "      <td>...</td>\n",
              "      <td>0</td>\n",
              "      <td>0</td>\n",
              "      <td>0</td>\n",
              "      <td>0</td>\n",
              "      <td>0</td>\n",
              "      <td>0</td>\n",
              "      <td>0</td>\n",
              "      <td>0</td>\n",
              "      <td>0</td>\n",
              "      <td>0</td>\n",
              "    </tr>\n",
              "    <tr>\n",
              "      <th>4</th>\n",
              "      <td>KulimPark-Regular</td>\n",
              "      <td>1</td>\n",
              "      <td>0</td>\n",
              "      <td>0</td>\n",
              "      <td>0</td>\n",
              "      <td>0</td>\n",
              "      <td>0</td>\n",
              "      <td>0</td>\n",
              "      <td>0</td>\n",
              "      <td>0</td>\n",
              "      <td>...</td>\n",
              "      <td>0</td>\n",
              "      <td>0</td>\n",
              "      <td>0</td>\n",
              "      <td>0</td>\n",
              "      <td>0</td>\n",
              "      <td>0</td>\n",
              "      <td>0</td>\n",
              "      <td>0</td>\n",
              "      <td>0</td>\n",
              "      <td>0</td>\n",
              "    </tr>\n",
              "  </tbody>\n",
              "</table>\n",
              "<p>5 rows × 786 columns</p>\n",
              "</div>\n",
              "    <div class=\"colab-df-buttons\">\n",
              "\n",
              "  <div class=\"colab-df-container\">\n",
              "    <button class=\"colab-df-convert\" onclick=\"convertToInteractive('df-28c1066f-b7d8-4526-be65-228d3b2b2d67')\"\n",
              "            title=\"Convert this dataframe to an interactive table.\"\n",
              "            style=\"display:none;\">\n",
              "\n",
              "  <svg xmlns=\"http://www.w3.org/2000/svg\" height=\"24px\" viewBox=\"0 -960 960 960\">\n",
              "    <path d=\"M120-120v-720h720v720H120Zm60-500h600v-160H180v160Zm220 220h160v-160H400v160Zm0 220h160v-160H400v160ZM180-400h160v-160H180v160Zm440 0h160v-160H620v160ZM180-180h160v-160H180v160Zm440 0h160v-160H620v160Z\"/>\n",
              "  </svg>\n",
              "    </button>\n",
              "\n",
              "  <style>\n",
              "    .colab-df-container {\n",
              "      display:flex;\n",
              "      gap: 12px;\n",
              "    }\n",
              "\n",
              "    .colab-df-convert {\n",
              "      background-color: #E8F0FE;\n",
              "      border: none;\n",
              "      border-radius: 50%;\n",
              "      cursor: pointer;\n",
              "      display: none;\n",
              "      fill: #1967D2;\n",
              "      height: 32px;\n",
              "      padding: 0 0 0 0;\n",
              "      width: 32px;\n",
              "    }\n",
              "\n",
              "    .colab-df-convert:hover {\n",
              "      background-color: #E2EBFA;\n",
              "      box-shadow: 0px 1px 2px rgba(60, 64, 67, 0.3), 0px 1px 3px 1px rgba(60, 64, 67, 0.15);\n",
              "      fill: #174EA6;\n",
              "    }\n",
              "\n",
              "    .colab-df-buttons div {\n",
              "      margin-bottom: 4px;\n",
              "    }\n",
              "\n",
              "    [theme=dark] .colab-df-convert {\n",
              "      background-color: #3B4455;\n",
              "      fill: #D2E3FC;\n",
              "    }\n",
              "\n",
              "    [theme=dark] .colab-df-convert:hover {\n",
              "      background-color: #434B5C;\n",
              "      box-shadow: 0px 1px 3px 1px rgba(0, 0, 0, 0.15);\n",
              "      filter: drop-shadow(0px 1px 2px rgba(0, 0, 0, 0.3));\n",
              "      fill: #FFFFFF;\n",
              "    }\n",
              "  </style>\n",
              "\n",
              "    <script>\n",
              "      const buttonEl =\n",
              "        document.querySelector('#df-28c1066f-b7d8-4526-be65-228d3b2b2d67 button.colab-df-convert');\n",
              "      buttonEl.style.display =\n",
              "        google.colab.kernel.accessAllowed ? 'block' : 'none';\n",
              "\n",
              "      async function convertToInteractive(key) {\n",
              "        const element = document.querySelector('#df-28c1066f-b7d8-4526-be65-228d3b2b2d67');\n",
              "        const dataTable =\n",
              "          await google.colab.kernel.invokeFunction('convertToInteractive',\n",
              "                                                    [key], {});\n",
              "        if (!dataTable) return;\n",
              "\n",
              "        const docLinkHtml = 'Like what you see? Visit the ' +\n",
              "          '<a target=\"_blank\" href=https://colab.research.google.com/notebooks/data_table.ipynb>data table notebook</a>'\n",
              "          + ' to learn more about interactive tables.';\n",
              "        element.innerHTML = '';\n",
              "        dataTable['output_type'] = 'display_data';\n",
              "        await google.colab.output.renderOutput(dataTable, element);\n",
              "        const docLink = document.createElement('div');\n",
              "        docLink.innerHTML = docLinkHtml;\n",
              "        element.appendChild(docLink);\n",
              "      }\n",
              "    </script>\n",
              "  </div>\n",
              "\n",
              "\n",
              "<div id=\"df-a5fd3cbe-53fa-44ce-97cb-c080109346b0\">\n",
              "  <button class=\"colab-df-quickchart\" onclick=\"quickchart('df-a5fd3cbe-53fa-44ce-97cb-c080109346b0')\"\n",
              "            title=\"Suggest charts\"\n",
              "            style=\"display:none;\">\n",
              "\n",
              "<svg xmlns=\"http://www.w3.org/2000/svg\" height=\"24px\"viewBox=\"0 0 24 24\"\n",
              "     width=\"24px\">\n",
              "    <g>\n",
              "        <path d=\"M19 3H5c-1.1 0-2 .9-2 2v14c0 1.1.9 2 2 2h14c1.1 0 2-.9 2-2V5c0-1.1-.9-2-2-2zM9 17H7v-7h2v7zm4 0h-2V7h2v10zm4 0h-2v-4h2v4z\"/>\n",
              "    </g>\n",
              "</svg>\n",
              "  </button>\n",
              "\n",
              "<style>\n",
              "  .colab-df-quickchart {\n",
              "      --bg-color: #E8F0FE;\n",
              "      --fill-color: #1967D2;\n",
              "      --hover-bg-color: #E2EBFA;\n",
              "      --hover-fill-color: #174EA6;\n",
              "      --disabled-fill-color: #AAA;\n",
              "      --disabled-bg-color: #DDD;\n",
              "  }\n",
              "\n",
              "  [theme=dark] .colab-df-quickchart {\n",
              "      --bg-color: #3B4455;\n",
              "      --fill-color: #D2E3FC;\n",
              "      --hover-bg-color: #434B5C;\n",
              "      --hover-fill-color: #FFFFFF;\n",
              "      --disabled-bg-color: #3B4455;\n",
              "      --disabled-fill-color: #666;\n",
              "  }\n",
              "\n",
              "  .colab-df-quickchart {\n",
              "    background-color: var(--bg-color);\n",
              "    border: none;\n",
              "    border-radius: 50%;\n",
              "    cursor: pointer;\n",
              "    display: none;\n",
              "    fill: var(--fill-color);\n",
              "    height: 32px;\n",
              "    padding: 0;\n",
              "    width: 32px;\n",
              "  }\n",
              "\n",
              "  .colab-df-quickchart:hover {\n",
              "    background-color: var(--hover-bg-color);\n",
              "    box-shadow: 0 1px 2px rgba(60, 64, 67, 0.3), 0 1px 3px 1px rgba(60, 64, 67, 0.15);\n",
              "    fill: var(--button-hover-fill-color);\n",
              "  }\n",
              "\n",
              "  .colab-df-quickchart-complete:disabled,\n",
              "  .colab-df-quickchart-complete:disabled:hover {\n",
              "    background-color: var(--disabled-bg-color);\n",
              "    fill: var(--disabled-fill-color);\n",
              "    box-shadow: none;\n",
              "  }\n",
              "\n",
              "  .colab-df-spinner {\n",
              "    border: 2px solid var(--fill-color);\n",
              "    border-color: transparent;\n",
              "    border-bottom-color: var(--fill-color);\n",
              "    animation:\n",
              "      spin 1s steps(1) infinite;\n",
              "  }\n",
              "\n",
              "  @keyframes spin {\n",
              "    0% {\n",
              "      border-color: transparent;\n",
              "      border-bottom-color: var(--fill-color);\n",
              "      border-left-color: var(--fill-color);\n",
              "    }\n",
              "    20% {\n",
              "      border-color: transparent;\n",
              "      border-left-color: var(--fill-color);\n",
              "      border-top-color: var(--fill-color);\n",
              "    }\n",
              "    30% {\n",
              "      border-color: transparent;\n",
              "      border-left-color: var(--fill-color);\n",
              "      border-top-color: var(--fill-color);\n",
              "      border-right-color: var(--fill-color);\n",
              "    }\n",
              "    40% {\n",
              "      border-color: transparent;\n",
              "      border-right-color: var(--fill-color);\n",
              "      border-top-color: var(--fill-color);\n",
              "    }\n",
              "    60% {\n",
              "      border-color: transparent;\n",
              "      border-right-color: var(--fill-color);\n",
              "    }\n",
              "    80% {\n",
              "      border-color: transparent;\n",
              "      border-right-color: var(--fill-color);\n",
              "      border-bottom-color: var(--fill-color);\n",
              "    }\n",
              "    90% {\n",
              "      border-color: transparent;\n",
              "      border-bottom-color: var(--fill-color);\n",
              "    }\n",
              "  }\n",
              "</style>\n",
              "\n",
              "  <script>\n",
              "    async function quickchart(key) {\n",
              "      const quickchartButtonEl =\n",
              "        document.querySelector('#' + key + ' button');\n",
              "      quickchartButtonEl.disabled = true;  // To prevent multiple clicks.\n",
              "      quickchartButtonEl.classList.add('colab-df-spinner');\n",
              "      try {\n",
              "        const charts = await google.colab.kernel.invokeFunction(\n",
              "            'suggestCharts', [key], {});\n",
              "      } catch (error) {\n",
              "        console.error('Error during call to suggestCharts:', error);\n",
              "      }\n",
              "      quickchartButtonEl.classList.remove('colab-df-spinner');\n",
              "      quickchartButtonEl.classList.add('colab-df-quickchart-complete');\n",
              "    }\n",
              "    (() => {\n",
              "      let quickchartButtonEl =\n",
              "        document.querySelector('#df-a5fd3cbe-53fa-44ce-97cb-c080109346b0 button');\n",
              "      quickchartButtonEl.style.display =\n",
              "        google.colab.kernel.accessAllowed ? 'block' : 'none';\n",
              "    })();\n",
              "  </script>\n",
              "</div>\n",
              "\n",
              "    </div>\n",
              "  </div>\n"
            ],
            "application/vnd.google.colaboratory.intrinsic+json": {
              "type": "dataframe",
              "variable_name": "data"
            }
          },
          "metadata": {},
          "execution_count": 9
        }
      ]
    },
    {
      "cell_type": "code",
      "source": [
        "# shape of dataset\n",
        "data.shape"
      ],
      "metadata": {
        "colab": {
          "base_uri": "https://localhost:8080/"
        },
        "id": "z43ZpIC_AiDM",
        "outputId": "781fee55-f940-4989-a542-ea1e8fbe4804"
      },
      "execution_count": 10,
      "outputs": [
        {
          "output_type": "execute_result",
          "data": {
            "text/plain": [
              "(29900, 786)"
            ]
          },
          "metadata": {},
          "execution_count": 10
        }
      ]
    },
    {
      "cell_type": "code",
      "source": [
        "# counting the number of values present in output column\n",
        "data['labels'].value_counts()"
      ],
      "metadata": {
        "colab": {
          "base_uri": "https://localhost:8080/"
        },
        "id": "zV3H3a7NE0w1",
        "outputId": "2f98b15a-60ce-4923-8913-c1cefac9e666"
      },
      "execution_count": 19,
      "outputs": [
        {
          "output_type": "execute_result",
          "data": {
            "text/plain": [
              "labels\n",
              "2    2990\n",
              "8    2990\n",
              "4    2990\n",
              "3    2990\n",
              "1    2990\n",
              "6    2990\n",
              "5    2990\n",
              "9    2990\n",
              "7    2990\n",
              "0    2990\n",
              "Name: count, dtype: int64"
            ]
          },
          "metadata": {},
          "execution_count": 19
        }
      ]
    },
    {
      "cell_type": "code",
      "source": [
        "data.describe()"
      ],
      "metadata": {
        "colab": {
          "base_uri": "https://localhost:8080/",
          "height": 349
        },
        "id": "3tlv2GyACFbU",
        "outputId": "094d0f45-cedf-41c9-e189-1aa80bf31b8f"
      },
      "execution_count": 20,
      "outputs": [
        {
          "output_type": "execute_result",
          "data": {
            "text/plain": [
              "             labels        1        2        3        4        5        6  \\\n",
              "count  29900.000000  29900.0  29900.0  29900.0  29900.0  29900.0  29900.0   \n",
              "mean       4.500000      0.0      0.0      0.0      0.0      0.0      0.0   \n",
              "std        2.872329      0.0      0.0      0.0      0.0      0.0      0.0   \n",
              "min        0.000000      0.0      0.0      0.0      0.0      0.0      0.0   \n",
              "25%        2.000000      0.0      0.0      0.0      0.0      0.0      0.0   \n",
              "50%        4.500000      0.0      0.0      0.0      0.0      0.0      0.0   \n",
              "75%        7.000000      0.0      0.0      0.0      0.0      0.0      0.0   \n",
              "max        9.000000      0.0      0.0      0.0      0.0      0.0      0.0   \n",
              "\n",
              "             7        8        9  ...           775           776      777  \\\n",
              "count  29900.0  29900.0  29900.0  ...  29900.000000  2.990000e+04  29900.0   \n",
              "mean       0.0      0.0      0.0  ...      0.000014  1.311561e-07      0.0   \n",
              "std        0.0      0.0      0.0  ...      0.001934  2.267902e-05      0.0   \n",
              "min        0.0      0.0      0.0  ...      0.000000  0.000000e+00      0.0   \n",
              "25%        0.0      0.0      0.0  ...      0.000000  0.000000e+00      0.0   \n",
              "50%        0.0      0.0      0.0  ...      0.000000  0.000000e+00      0.0   \n",
              "75%        0.0      0.0      0.0  ...      0.000000  0.000000e+00      0.0   \n",
              "max        0.0      0.0      0.0  ...      0.329412  3.921569e-03      0.0   \n",
              "\n",
              "           778      779      780      781      782      783      784  \n",
              "count  29900.0  29900.0  29900.0  29900.0  29900.0  29900.0  29900.0  \n",
              "mean       0.0      0.0      0.0      0.0      0.0      0.0      0.0  \n",
              "std        0.0      0.0      0.0      0.0      0.0      0.0      0.0  \n",
              "min        0.0      0.0      0.0      0.0      0.0      0.0      0.0  \n",
              "25%        0.0      0.0      0.0      0.0      0.0      0.0      0.0  \n",
              "50%        0.0      0.0      0.0      0.0      0.0      0.0      0.0  \n",
              "75%        0.0      0.0      0.0      0.0      0.0      0.0      0.0  \n",
              "max        0.0      0.0      0.0      0.0      0.0      0.0      0.0  \n",
              "\n",
              "[8 rows x 785 columns]"
            ],
            "text/html": [
              "\n",
              "  <div id=\"df-f1b57b31-4383-43bb-87ef-acdb26b19617\" class=\"colab-df-container\">\n",
              "    <div>\n",
              "<style scoped>\n",
              "    .dataframe tbody tr th:only-of-type {\n",
              "        vertical-align: middle;\n",
              "    }\n",
              "\n",
              "    .dataframe tbody tr th {\n",
              "        vertical-align: top;\n",
              "    }\n",
              "\n",
              "    .dataframe thead th {\n",
              "        text-align: right;\n",
              "    }\n",
              "</style>\n",
              "<table border=\"1\" class=\"dataframe\">\n",
              "  <thead>\n",
              "    <tr style=\"text-align: right;\">\n",
              "      <th></th>\n",
              "      <th>labels</th>\n",
              "      <th>1</th>\n",
              "      <th>2</th>\n",
              "      <th>3</th>\n",
              "      <th>4</th>\n",
              "      <th>5</th>\n",
              "      <th>6</th>\n",
              "      <th>7</th>\n",
              "      <th>8</th>\n",
              "      <th>9</th>\n",
              "      <th>...</th>\n",
              "      <th>775</th>\n",
              "      <th>776</th>\n",
              "      <th>777</th>\n",
              "      <th>778</th>\n",
              "      <th>779</th>\n",
              "      <th>780</th>\n",
              "      <th>781</th>\n",
              "      <th>782</th>\n",
              "      <th>783</th>\n",
              "      <th>784</th>\n",
              "    </tr>\n",
              "  </thead>\n",
              "  <tbody>\n",
              "    <tr>\n",
              "      <th>count</th>\n",
              "      <td>29900.000000</td>\n",
              "      <td>29900.0</td>\n",
              "      <td>29900.0</td>\n",
              "      <td>29900.0</td>\n",
              "      <td>29900.0</td>\n",
              "      <td>29900.0</td>\n",
              "      <td>29900.0</td>\n",
              "      <td>29900.0</td>\n",
              "      <td>29900.0</td>\n",
              "      <td>29900.0</td>\n",
              "      <td>...</td>\n",
              "      <td>29900.000000</td>\n",
              "      <td>2.990000e+04</td>\n",
              "      <td>29900.0</td>\n",
              "      <td>29900.0</td>\n",
              "      <td>29900.0</td>\n",
              "      <td>29900.0</td>\n",
              "      <td>29900.0</td>\n",
              "      <td>29900.0</td>\n",
              "      <td>29900.0</td>\n",
              "      <td>29900.0</td>\n",
              "    </tr>\n",
              "    <tr>\n",
              "      <th>mean</th>\n",
              "      <td>4.500000</td>\n",
              "      <td>0.0</td>\n",
              "      <td>0.0</td>\n",
              "      <td>0.0</td>\n",
              "      <td>0.0</td>\n",
              "      <td>0.0</td>\n",
              "      <td>0.0</td>\n",
              "      <td>0.0</td>\n",
              "      <td>0.0</td>\n",
              "      <td>0.0</td>\n",
              "      <td>...</td>\n",
              "      <td>0.000014</td>\n",
              "      <td>1.311561e-07</td>\n",
              "      <td>0.0</td>\n",
              "      <td>0.0</td>\n",
              "      <td>0.0</td>\n",
              "      <td>0.0</td>\n",
              "      <td>0.0</td>\n",
              "      <td>0.0</td>\n",
              "      <td>0.0</td>\n",
              "      <td>0.0</td>\n",
              "    </tr>\n",
              "    <tr>\n",
              "      <th>std</th>\n",
              "      <td>2.872329</td>\n",
              "      <td>0.0</td>\n",
              "      <td>0.0</td>\n",
              "      <td>0.0</td>\n",
              "      <td>0.0</td>\n",
              "      <td>0.0</td>\n",
              "      <td>0.0</td>\n",
              "      <td>0.0</td>\n",
              "      <td>0.0</td>\n",
              "      <td>0.0</td>\n",
              "      <td>...</td>\n",
              "      <td>0.001934</td>\n",
              "      <td>2.267902e-05</td>\n",
              "      <td>0.0</td>\n",
              "      <td>0.0</td>\n",
              "      <td>0.0</td>\n",
              "      <td>0.0</td>\n",
              "      <td>0.0</td>\n",
              "      <td>0.0</td>\n",
              "      <td>0.0</td>\n",
              "      <td>0.0</td>\n",
              "    </tr>\n",
              "    <tr>\n",
              "      <th>min</th>\n",
              "      <td>0.000000</td>\n",
              "      <td>0.0</td>\n",
              "      <td>0.0</td>\n",
              "      <td>0.0</td>\n",
              "      <td>0.0</td>\n",
              "      <td>0.0</td>\n",
              "      <td>0.0</td>\n",
              "      <td>0.0</td>\n",
              "      <td>0.0</td>\n",
              "      <td>0.0</td>\n",
              "      <td>...</td>\n",
              "      <td>0.000000</td>\n",
              "      <td>0.000000e+00</td>\n",
              "      <td>0.0</td>\n",
              "      <td>0.0</td>\n",
              "      <td>0.0</td>\n",
              "      <td>0.0</td>\n",
              "      <td>0.0</td>\n",
              "      <td>0.0</td>\n",
              "      <td>0.0</td>\n",
              "      <td>0.0</td>\n",
              "    </tr>\n",
              "    <tr>\n",
              "      <th>25%</th>\n",
              "      <td>2.000000</td>\n",
              "      <td>0.0</td>\n",
              "      <td>0.0</td>\n",
              "      <td>0.0</td>\n",
              "      <td>0.0</td>\n",
              "      <td>0.0</td>\n",
              "      <td>0.0</td>\n",
              "      <td>0.0</td>\n",
              "      <td>0.0</td>\n",
              "      <td>0.0</td>\n",
              "      <td>...</td>\n",
              "      <td>0.000000</td>\n",
              "      <td>0.000000e+00</td>\n",
              "      <td>0.0</td>\n",
              "      <td>0.0</td>\n",
              "      <td>0.0</td>\n",
              "      <td>0.0</td>\n",
              "      <td>0.0</td>\n",
              "      <td>0.0</td>\n",
              "      <td>0.0</td>\n",
              "      <td>0.0</td>\n",
              "    </tr>\n",
              "    <tr>\n",
              "      <th>50%</th>\n",
              "      <td>4.500000</td>\n",
              "      <td>0.0</td>\n",
              "      <td>0.0</td>\n",
              "      <td>0.0</td>\n",
              "      <td>0.0</td>\n",
              "      <td>0.0</td>\n",
              "      <td>0.0</td>\n",
              "      <td>0.0</td>\n",
              "      <td>0.0</td>\n",
              "      <td>0.0</td>\n",
              "      <td>...</td>\n",
              "      <td>0.000000</td>\n",
              "      <td>0.000000e+00</td>\n",
              "      <td>0.0</td>\n",
              "      <td>0.0</td>\n",
              "      <td>0.0</td>\n",
              "      <td>0.0</td>\n",
              "      <td>0.0</td>\n",
              "      <td>0.0</td>\n",
              "      <td>0.0</td>\n",
              "      <td>0.0</td>\n",
              "    </tr>\n",
              "    <tr>\n",
              "      <th>75%</th>\n",
              "      <td>7.000000</td>\n",
              "      <td>0.0</td>\n",
              "      <td>0.0</td>\n",
              "      <td>0.0</td>\n",
              "      <td>0.0</td>\n",
              "      <td>0.0</td>\n",
              "      <td>0.0</td>\n",
              "      <td>0.0</td>\n",
              "      <td>0.0</td>\n",
              "      <td>0.0</td>\n",
              "      <td>...</td>\n",
              "      <td>0.000000</td>\n",
              "      <td>0.000000e+00</td>\n",
              "      <td>0.0</td>\n",
              "      <td>0.0</td>\n",
              "      <td>0.0</td>\n",
              "      <td>0.0</td>\n",
              "      <td>0.0</td>\n",
              "      <td>0.0</td>\n",
              "      <td>0.0</td>\n",
              "      <td>0.0</td>\n",
              "    </tr>\n",
              "    <tr>\n",
              "      <th>max</th>\n",
              "      <td>9.000000</td>\n",
              "      <td>0.0</td>\n",
              "      <td>0.0</td>\n",
              "      <td>0.0</td>\n",
              "      <td>0.0</td>\n",
              "      <td>0.0</td>\n",
              "      <td>0.0</td>\n",
              "      <td>0.0</td>\n",
              "      <td>0.0</td>\n",
              "      <td>0.0</td>\n",
              "      <td>...</td>\n",
              "      <td>0.329412</td>\n",
              "      <td>3.921569e-03</td>\n",
              "      <td>0.0</td>\n",
              "      <td>0.0</td>\n",
              "      <td>0.0</td>\n",
              "      <td>0.0</td>\n",
              "      <td>0.0</td>\n",
              "      <td>0.0</td>\n",
              "      <td>0.0</td>\n",
              "      <td>0.0</td>\n",
              "    </tr>\n",
              "  </tbody>\n",
              "</table>\n",
              "<p>8 rows × 785 columns</p>\n",
              "</div>\n",
              "    <div class=\"colab-df-buttons\">\n",
              "\n",
              "  <div class=\"colab-df-container\">\n",
              "    <button class=\"colab-df-convert\" onclick=\"convertToInteractive('df-f1b57b31-4383-43bb-87ef-acdb26b19617')\"\n",
              "            title=\"Convert this dataframe to an interactive table.\"\n",
              "            style=\"display:none;\">\n",
              "\n",
              "  <svg xmlns=\"http://www.w3.org/2000/svg\" height=\"24px\" viewBox=\"0 -960 960 960\">\n",
              "    <path d=\"M120-120v-720h720v720H120Zm60-500h600v-160H180v160Zm220 220h160v-160H400v160Zm0 220h160v-160H400v160ZM180-400h160v-160H180v160Zm440 0h160v-160H620v160ZM180-180h160v-160H180v160Zm440 0h160v-160H620v160Z\"/>\n",
              "  </svg>\n",
              "    </button>\n",
              "\n",
              "  <style>\n",
              "    .colab-df-container {\n",
              "      display:flex;\n",
              "      gap: 12px;\n",
              "    }\n",
              "\n",
              "    .colab-df-convert {\n",
              "      background-color: #E8F0FE;\n",
              "      border: none;\n",
              "      border-radius: 50%;\n",
              "      cursor: pointer;\n",
              "      display: none;\n",
              "      fill: #1967D2;\n",
              "      height: 32px;\n",
              "      padding: 0 0 0 0;\n",
              "      width: 32px;\n",
              "    }\n",
              "\n",
              "    .colab-df-convert:hover {\n",
              "      background-color: #E2EBFA;\n",
              "      box-shadow: 0px 1px 2px rgba(60, 64, 67, 0.3), 0px 1px 3px 1px rgba(60, 64, 67, 0.15);\n",
              "      fill: #174EA6;\n",
              "    }\n",
              "\n",
              "    .colab-df-buttons div {\n",
              "      margin-bottom: 4px;\n",
              "    }\n",
              "\n",
              "    [theme=dark] .colab-df-convert {\n",
              "      background-color: #3B4455;\n",
              "      fill: #D2E3FC;\n",
              "    }\n",
              "\n",
              "    [theme=dark] .colab-df-convert:hover {\n",
              "      background-color: #434B5C;\n",
              "      box-shadow: 0px 1px 3px 1px rgba(0, 0, 0, 0.15);\n",
              "      filter: drop-shadow(0px 1px 2px rgba(0, 0, 0, 0.3));\n",
              "      fill: #FFFFFF;\n",
              "    }\n",
              "  </style>\n",
              "\n",
              "    <script>\n",
              "      const buttonEl =\n",
              "        document.querySelector('#df-f1b57b31-4383-43bb-87ef-acdb26b19617 button.colab-df-convert');\n",
              "      buttonEl.style.display =\n",
              "        google.colab.kernel.accessAllowed ? 'block' : 'none';\n",
              "\n",
              "      async function convertToInteractive(key) {\n",
              "        const element = document.querySelector('#df-f1b57b31-4383-43bb-87ef-acdb26b19617');\n",
              "        const dataTable =\n",
              "          await google.colab.kernel.invokeFunction('convertToInteractive',\n",
              "                                                    [key], {});\n",
              "        if (!dataTable) return;\n",
              "\n",
              "        const docLinkHtml = 'Like what you see? Visit the ' +\n",
              "          '<a target=\"_blank\" href=https://colab.research.google.com/notebooks/data_table.ipynb>data table notebook</a>'\n",
              "          + ' to learn more about interactive tables.';\n",
              "        element.innerHTML = '';\n",
              "        dataTable['output_type'] = 'display_data';\n",
              "        await google.colab.output.renderOutput(dataTable, element);\n",
              "        const docLink = document.createElement('div');\n",
              "        docLink.innerHTML = docLinkHtml;\n",
              "        element.appendChild(docLink);\n",
              "      }\n",
              "    </script>\n",
              "  </div>\n",
              "\n",
              "\n",
              "<div id=\"df-242485ad-1007-42b7-9517-efa558655164\">\n",
              "  <button class=\"colab-df-quickchart\" onclick=\"quickchart('df-242485ad-1007-42b7-9517-efa558655164')\"\n",
              "            title=\"Suggest charts\"\n",
              "            style=\"display:none;\">\n",
              "\n",
              "<svg xmlns=\"http://www.w3.org/2000/svg\" height=\"24px\"viewBox=\"0 0 24 24\"\n",
              "     width=\"24px\">\n",
              "    <g>\n",
              "        <path d=\"M19 3H5c-1.1 0-2 .9-2 2v14c0 1.1.9 2 2 2h14c1.1 0 2-.9 2-2V5c0-1.1-.9-2-2-2zM9 17H7v-7h2v7zm4 0h-2V7h2v10zm4 0h-2v-4h2v4z\"/>\n",
              "    </g>\n",
              "</svg>\n",
              "  </button>\n",
              "\n",
              "<style>\n",
              "  .colab-df-quickchart {\n",
              "      --bg-color: #E8F0FE;\n",
              "      --fill-color: #1967D2;\n",
              "      --hover-bg-color: #E2EBFA;\n",
              "      --hover-fill-color: #174EA6;\n",
              "      --disabled-fill-color: #AAA;\n",
              "      --disabled-bg-color: #DDD;\n",
              "  }\n",
              "\n",
              "  [theme=dark] .colab-df-quickchart {\n",
              "      --bg-color: #3B4455;\n",
              "      --fill-color: #D2E3FC;\n",
              "      --hover-bg-color: #434B5C;\n",
              "      --hover-fill-color: #FFFFFF;\n",
              "      --disabled-bg-color: #3B4455;\n",
              "      --disabled-fill-color: #666;\n",
              "  }\n",
              "\n",
              "  .colab-df-quickchart {\n",
              "    background-color: var(--bg-color);\n",
              "    border: none;\n",
              "    border-radius: 50%;\n",
              "    cursor: pointer;\n",
              "    display: none;\n",
              "    fill: var(--fill-color);\n",
              "    height: 32px;\n",
              "    padding: 0;\n",
              "    width: 32px;\n",
              "  }\n",
              "\n",
              "  .colab-df-quickchart:hover {\n",
              "    background-color: var(--hover-bg-color);\n",
              "    box-shadow: 0 1px 2px rgba(60, 64, 67, 0.3), 0 1px 3px 1px rgba(60, 64, 67, 0.15);\n",
              "    fill: var(--button-hover-fill-color);\n",
              "  }\n",
              "\n",
              "  .colab-df-quickchart-complete:disabled,\n",
              "  .colab-df-quickchart-complete:disabled:hover {\n",
              "    background-color: var(--disabled-bg-color);\n",
              "    fill: var(--disabled-fill-color);\n",
              "    box-shadow: none;\n",
              "  }\n",
              "\n",
              "  .colab-df-spinner {\n",
              "    border: 2px solid var(--fill-color);\n",
              "    border-color: transparent;\n",
              "    border-bottom-color: var(--fill-color);\n",
              "    animation:\n",
              "      spin 1s steps(1) infinite;\n",
              "  }\n",
              "\n",
              "  @keyframes spin {\n",
              "    0% {\n",
              "      border-color: transparent;\n",
              "      border-bottom-color: var(--fill-color);\n",
              "      border-left-color: var(--fill-color);\n",
              "    }\n",
              "    20% {\n",
              "      border-color: transparent;\n",
              "      border-left-color: var(--fill-color);\n",
              "      border-top-color: var(--fill-color);\n",
              "    }\n",
              "    30% {\n",
              "      border-color: transparent;\n",
              "      border-left-color: var(--fill-color);\n",
              "      border-top-color: var(--fill-color);\n",
              "      border-right-color: var(--fill-color);\n",
              "    }\n",
              "    40% {\n",
              "      border-color: transparent;\n",
              "      border-right-color: var(--fill-color);\n",
              "      border-top-color: var(--fill-color);\n",
              "    }\n",
              "    60% {\n",
              "      border-color: transparent;\n",
              "      border-right-color: var(--fill-color);\n",
              "    }\n",
              "    80% {\n",
              "      border-color: transparent;\n",
              "      border-right-color: var(--fill-color);\n",
              "      border-bottom-color: var(--fill-color);\n",
              "    }\n",
              "    90% {\n",
              "      border-color: transparent;\n",
              "      border-bottom-color: var(--fill-color);\n",
              "    }\n",
              "  }\n",
              "</style>\n",
              "\n",
              "  <script>\n",
              "    async function quickchart(key) {\n",
              "      const quickchartButtonEl =\n",
              "        document.querySelector('#' + key + ' button');\n",
              "      quickchartButtonEl.disabled = true;  // To prevent multiple clicks.\n",
              "      quickchartButtonEl.classList.add('colab-df-spinner');\n",
              "      try {\n",
              "        const charts = await google.colab.kernel.invokeFunction(\n",
              "            'suggestCharts', [key], {});\n",
              "      } catch (error) {\n",
              "        console.error('Error during call to suggestCharts:', error);\n",
              "      }\n",
              "      quickchartButtonEl.classList.remove('colab-df-spinner');\n",
              "      quickchartButtonEl.classList.add('colab-df-quickchart-complete');\n",
              "    }\n",
              "    (() => {\n",
              "      let quickchartButtonEl =\n",
              "        document.querySelector('#df-242485ad-1007-42b7-9517-efa558655164 button');\n",
              "      quickchartButtonEl.style.display =\n",
              "        google.colab.kernel.accessAllowed ? 'block' : 'none';\n",
              "    })();\n",
              "  </script>\n",
              "</div>\n",
              "\n",
              "    </div>\n",
              "  </div>\n"
            ],
            "application/vnd.google.colaboratory.intrinsic+json": {
              "type": "dataframe"
            }
          },
          "metadata": {},
          "execution_count": 20
        }
      ]
    },
    {
      "cell_type": "code",
      "source": [
        "# Normalize pixel values to the range [0, 1]\n",
        "data.iloc[:, 2:] /= 255.0"
      ],
      "metadata": {
        "id": "BBIhYs1LCjCa"
      },
      "execution_count": 21,
      "outputs": []
    },
    {
      "cell_type": "markdown",
      "source": [
        "This code snippet performs a crucial preprocessing step for image data, specifically normalizing pixel values to a range between 0 and 1. By dividing each pixel value by 255.0, it scales the values appropriately. This normalization step is vital for ensuring that the input data falls within a consistent range, which can significantly improve the training process and the performance of machine learning models, particularly neural networks. Normalizing pixel values helps in stabilizing training, preventing issues like vanishing or exploding gradients, and ensures that the model learns effectively from the data."
      ],
      "metadata": {
        "id": "1xhdcN1HFSSa"
      }
    },
    {
      "cell_type": "code",
      "source": [
        "# Reshape the image data for convolutional neural network (CNN) input\n",
        "X = data.iloc[:, 2:].values.reshape(-1, 28, 28, 1)"
      ],
      "metadata": {
        "id": "oAeEdK9yFM20"
      },
      "execution_count": 22,
      "outputs": []
    },
    {
      "cell_type": "markdown",
      "source": [
        "The above code is responsible for reshaping the image data to a format suitable for Convolutional Neural Network (CNN) input. The resulting shape (-1, 28, 28, 1) signifies that each image is now represented as a 28x28 pixel grid with a single color channel (grayscale). This reshaping aligns with the input requirements of CNNs, which are commonly employed for image classification tasks. The additional dimension is introduced to accommodate the single-channel nature of grayscale images, preparing the data for subsequent model training."
      ],
      "metadata": {
        "id": "mcrSrBANLT7o"
      }
    },
    {
      "cell_type": "code",
      "source": [
        "# One-hot encode the labels\n",
        "y = pd.get_dummies(data['labels']).values"
      ],
      "metadata": {
        "id": "vvUEBKITIaXk"
      },
      "execution_count": 24,
      "outputs": []
    },
    {
      "cell_type": "markdown",
      "source": [
        "The provided code is responsible for one-hot encoding the categorical labels in the dataset. Each unique label becomes a binary vector where only one element is 1, and the rest are 0, representing the presence of a particular class. This one-hot encoding is essential for training a neural network, especially when dealing with classification problems, as it transforms categorical labels into a format suitable for model training and evaluation."
      ],
      "metadata": {
        "id": "Fo7oziBGLthp"
      }
    },
    {
      "cell_type": "markdown",
      "source": [
        "# Splitting the data into training and testing sets"
      ],
      "metadata": {
        "id": "VT3NAfoiLvlv"
      }
    },
    {
      "cell_type": "code",
      "source": [
        "X_train, X_test, y_train, y_test = train_test_split(X, y, test_size=0.2, random_state=42)"
      ],
      "metadata": {
        "id": "xzclhCzELnSW"
      },
      "execution_count": 25,
      "outputs": []
    },
    {
      "cell_type": "markdown",
      "source": [
        "We are using 20% of the data for testing, while the remaining 80% will be used for training the neural network."
      ],
      "metadata": {
        "id": "FMGgK7mKL1a6"
      }
    },
    {
      "cell_type": "code",
      "source": [
        "# Plotting a image\n",
        "plt.imshow(X_train[18], cmap=plt.cm.binary, interpolation='nearest')"
      ],
      "metadata": {
        "colab": {
          "base_uri": "https://localhost:8080/",
          "height": 447
        },
        "id": "PEoJUhSjUf3d",
        "outputId": "c0f3b43e-b661-4e30-c8b2-d104189b56b3"
      },
      "execution_count": 44,
      "outputs": [
        {
          "output_type": "execute_result",
          "data": {
            "text/plain": [
              "<matplotlib.image.AxesImage at 0x7ad907fd49d0>"
            ]
          },
          "metadata": {},
          "execution_count": 44
        },
        {
          "output_type": "display_data",
          "data": {
            "text/plain": [
              "<Figure size 640x480 with 1 Axes>"
            ],
            "image/png": "[encoded data removed]"
          },
          "metadata": {}
        }
      ]
    },
    {
      "cell_type": "markdown",
      "source": [
        "The above code has displayed the handwritten 8 in image using imshow() functions."
      ],
      "metadata": {
        "id": "sQ6wPtvvWYJ0"
      }
    },
    {
      "cell_type": "code",
      "source": [
        "num_typefaces = len(data['labels'].unique())\n",
        "print(num_typefaces)"
      ],
      "metadata": {
        "colab": {
          "base_uri": "https://localhost:8080/"
        },
        "id": "N2cvNc9yLypW",
        "outputId": "a04edeaa-c634-45bd-afdb-6ec7d626bd59"
      },
      "execution_count": 16,
      "outputs": [
        {
          "output_type": "stream",
          "name": "stdout",
          "text": [
            "10\n"
          ]
        }
      ]
    },
    {
      "cell_type": "markdown",
      "source": [
        "This code calculates the number of unique typefaces in the dataset. This information is essential for configuring the output layer of the neural network, ensuring that it has the appropriate number of units corresponding to the unique typefaces in the dataset. As we can see, we have 10 unique typefaces in our dataset."
      ],
      "metadata": {
        "id": "s1uHX_X0MHlP"
      }
    },
    {
      "cell_type": "markdown",
      "source": [
        "# Defining the neural network architecture"
      ],
      "metadata": {
        "id": "3gnkqxHsMKMk"
      }
    },
    {
      "cell_type": "code",
      "source": [
        "model = models.Sequential([\n",
        "    layers.Conv2D(32, (3, 3), activation='relu', input_shape=(28, 28, 1)),\n",
        "    layers.MaxPooling2D((2, 2)),\n",
        "    layers.Conv2D(64, (3, 3), activation='relu'),\n",
        "    layers.MaxPooling2D((2, 2)),\n",
        "    layers.Flatten(),\n",
        "    layers.Dense(128, activation='relu'),\n",
        "    layers.Dense(num_typefaces, activation='softmax')\n",
        "])"
      ],
      "metadata": {
        "id": "6iPST-qXL5AC"
      },
      "execution_count": 17,
      "outputs": []
    },
    {
      "cell_type": "markdown",
      "source": [
        "This code constructs a convolutional neural network (CNN) architecture using TensorFlow and Keras. It arranges the model in a sequential stack of layers. The architecture includes convolutional layers employing rectified linear unit (ReLU) activation, followed by max-pooling layers for spatial dimension reduction. A flattened layer converts the 2D feature maps into a 1D vector. Two fully connected (dense) layers are then appended, with the first dense layer utilizing ReLU activation and the output layer employing softmax activation. The input shape is specified as (28, 28, 1), matching the dimensions of the input images. The number of units in the output layer is dictated by the variable num_typefaces, ensuring the network generates probabilities for each unique typeface label. This architecture is well-suited for image classification endeavors."
      ],
      "metadata": {
        "id": "qGJkhVGRMRgc"
      }
    },
    {
      "cell_type": "code",
      "source": [
        "# Compile the model\n",
        "model.compile(optimizer='adam', loss='categorical_crossentropy', metrics=['accuracy'])"
      ],
      "metadata": {
        "id": "cqcKB_LHMMLR"
      },
      "execution_count": 28,
      "outputs": []
    },
    {
      "cell_type": "markdown",
      "source": [
        "- In this code, the model is compiled using the Adam optimizer, categorical crossentropy as the loss function, and accuracy as the metric to monitor during training.\n",
        "- Compiling the model is a necessary step before training, as it configures the model for the training process.\n",
        "- The Adam optimizer is a popular choice for optimization algorithms due to its adaptive learning rates.\n",
        "- Categorical crossentropy is used as the loss function since this is a multi-class classification problem, and the softmax activation in the output layer ensures that the model predicts probabilities for each typeface class.\n",
        "- The goal during training is to minimize the categorical crossentropy loss, and accuracy is chosen as a metric to evaluate how well the model is performing on the training and validation datasets."
      ],
      "metadata": {
        "id": "XwvJ1orFMWCh"
      }
    },
    {
      "cell_type": "code",
      "source": [
        "# printing optimizer configuration\n",
        "print(model.optimizer.get_config())"
      ],
      "metadata": {
        "colab": {
          "base_uri": "https://localhost:8080/"
        },
        "id": "z9iSpYSKIKHL",
        "outputId": "40511b76-aa47-4020-d836-774e6f6f9a76"
      },
      "execution_count": 30,
      "outputs": [
        {
          "output_type": "stream",
          "name": "stdout",
          "text": [
            "{'name': 'Adam', 'weight_decay': None, 'clipnorm': None, 'global_clipnorm': None, 'clipvalue': None, 'use_ema': False, 'ema_momentum': 0.99, 'ema_overwrite_frequency': None, 'jit_compile': False, 'is_legacy_optimizer': False, 'learning_rate': 0.001, 'beta_1': 0.9, 'beta_2': 0.999, 'epsilon': 1e-07, 'amsgrad': False}\n"
          ]
        }
      ]
    },
    {
      "cell_type": "markdown",
      "source": [
        "This code snippet is printing the configuration of the optimizer used in a machine learning model.\n",
        "\n",
        "In TensorFlow/Keras, the optimizer is responsible for adjusting the weights of the neural network during the training process in order to minimize the loss function. The optimizer configuration includes parameters such as the learning rate, momentum, decay, etc., which determine how the optimization algorithm behaves.\n",
        "\n",
        "By calling `model.optimizer.get_config()`, it retrieves the configuration settings of the optimizer that has been assigned to the model. This typically includes all the parameters and hyperparameters that are set for the optimizer.\n",
        "\n",
        "Printing out this configuration allows you to inspect the settings of the optimizer, providing insights into how the model is being trained and how the optimization process is being controlled. It's useful for debugging, optimization fine-tuning, or simply understanding the behavior of the model during training."
      ],
      "metadata": {
        "id": "oVjaRp2PNZPb"
      }
    },
    {
      "cell_type": "markdown",
      "source": [
        "# Model Summary"
      ],
      "metadata": {
        "id": "644ELH8tMaNw"
      }
    },
    {
      "cell_type": "code",
      "source": [
        "# Display the model summary\n",
        "model.summary()"
      ],
      "metadata": {
        "colab": {
          "base_uri": "https://localhost:8080/"
        },
        "id": "dtHiyjGMMUcz",
        "outputId": "113b4726-bb73-4009-d501-1184d5574c77"
      },
      "execution_count": 31,
      "outputs": [
        {
          "output_type": "stream",
          "name": "stdout",
          "text": [
            "Model: \"sequential\"\n",
            "_________________________________________________________________\n",
            " Layer (type)                Output Shape              Param #   \n",
            "=================================================================\n",
            " conv2d (Conv2D)             (None, 26, 26, 32)        320       \n",
            "                                                                 \n",
            " max_pooling2d (MaxPooling2  (None, 13, 13, 32)        0         \n",
            " D)                                                              \n",
            "                                                                 \n",
            " conv2d_1 (Conv2D)           (None, 11, 11, 64)        18496     \n",
            "                                                                 \n",
            " max_pooling2d_1 (MaxPoolin  (None, 5, 5, 64)          0         \n",
            " g2D)                                                            \n",
            "                                                                 \n",
            " flatten (Flatten)           (None, 1600)              0         \n",
            "                                                                 \n",
            " dense (Dense)               (None, 128)               204928    \n",
            "                                                                 \n",
            " dense_1 (Dense)             (None, 10)                1290      \n",
            "                                                                 \n",
            "=================================================================\n",
            "Total params: 225034 (879.04 KB)\n",
            "Trainable params: 225034 (879.04 KB)\n",
            "Non-trainable params: 0 (0.00 Byte)\n",
            "_________________________________________________________________\n"
          ]
        }
      ]
    },
    {
      "cell_type": "markdown",
      "source": [
        "- The model summary provides a detailed overview of the neural network architecture, including each layer's type, output shape, and the number of parameters.\n",
        "- This summary helps in understanding the network's structure and the number of parameters involved, which can be useful for debugging and optimizing the model."
      ],
      "metadata": {
        "id": "xxyTHc8GMjLu"
      }
    },
    {
      "cell_type": "code",
      "source": [
        "# Train the model\n",
        "history = model.fit(X_train, y_train, epochs=20, validation_data=(X_test, y_test))"
      ],
      "metadata": {
        "colab": {
          "base_uri": "https://localhost:8080/"
        },
        "id": "kjENArvzMfEK",
        "outputId": "ede0824b-104e-4b46-d3b8-c8ee882a0f7b"
      },
      "execution_count": 33,
      "outputs": [
        {
          "output_type": "stream",
          "name": "stdout",
          "text": [
            "Epoch 1/20\n",
            "748/748 [==============================] - 26s 34ms/step - loss: 0.0687 - accuracy: 0.9804 - val_loss: 0.0903 - val_accuracy: 0.9753\n",
            "Epoch 2/20\n",
            "748/748 [==============================] - 25s 33ms/step - loss: 0.0653 - accuracy: 0.9816 - val_loss: 0.0765 - val_accuracy: 0.9813\n",
            "Epoch 3/20\n",
            "748/748 [==============================] - 25s 33ms/step - loss: 0.0614 - accuracy: 0.9821 - val_loss: 0.0763 - val_accuracy: 0.9796\n",
            "Epoch 4/20\n",
            "748/748 [==============================] - 25s 33ms/step - loss: 0.0567 - accuracy: 0.9836 - val_loss: 0.0669 - val_accuracy: 0.9826\n",
            "Epoch 5/20\n",
            "748/748 [==============================] - 25s 33ms/step - loss: 0.0537 - accuracy: 0.9846 - val_loss: 0.0681 - val_accuracy: 0.9821\n",
            "Epoch 6/20\n",
            "748/748 [==============================] - 24s 32ms/step - loss: 0.0515 - accuracy: 0.9845 - val_loss: 0.0675 - val_accuracy: 0.9826\n",
            "Epoch 7/20\n",
            "748/748 [==============================] - 24s 32ms/step - loss: 0.0484 - accuracy: 0.9860 - val_loss: 0.0755 - val_accuracy: 0.9793\n",
            "Epoch 8/20\n",
            "748/748 [==============================] - 25s 33ms/step - loss: 0.0457 - accuracy: 0.9867 - val_loss: 0.0694 - val_accuracy: 0.9799\n",
            "Epoch 9/20\n",
            "748/748 [==============================] - 25s 33ms/step - loss: 0.0432 - accuracy: 0.9872 - val_loss: 0.0626 - val_accuracy: 0.9834\n",
            "Epoch 10/20\n",
            "748/748 [==============================] - 25s 33ms/step - loss: 0.0409 - accuracy: 0.9875 - val_loss: 0.0628 - val_accuracy: 0.9836\n",
            "Epoch 11/20\n",
            "748/748 [==============================] - 25s 33ms/step - loss: 0.0373 - accuracy: 0.9891 - val_loss: 0.0629 - val_accuracy: 0.9851\n",
            "Epoch 12/20\n",
            "748/748 [==============================] - 23s 31ms/step - loss: 0.0356 - accuracy: 0.9892 - val_loss: 0.0576 - val_accuracy: 0.9843\n",
            "Epoch 13/20\n",
            "748/748 [==============================] - 23s 31ms/step - loss: 0.0336 - accuracy: 0.9897 - val_loss: 0.0596 - val_accuracy: 0.9833\n",
            "Epoch 14/20\n",
            "748/748 [==============================] - 24s 32ms/step - loss: 0.0311 - accuracy: 0.9907 - val_loss: 0.0596 - val_accuracy: 0.9841\n",
            "Epoch 15/20\n",
            "748/748 [==============================] - 25s 33ms/step - loss: 0.0307 - accuracy: 0.9906 - val_loss: 0.0521 - val_accuracy: 0.9871\n",
            "Epoch 16/20\n",
            "748/748 [==============================] - 24s 32ms/step - loss: 0.0288 - accuracy: 0.9909 - val_loss: 0.0589 - val_accuracy: 0.9860\n",
            "Epoch 17/20\n",
            "748/748 [==============================] - 24s 32ms/step - loss: 0.0272 - accuracy: 0.9917 - val_loss: 0.0527 - val_accuracy: 0.9875\n",
            "Epoch 18/20\n",
            "748/748 [==============================] - 25s 34ms/step - loss: 0.0257 - accuracy: 0.9917 - val_loss: 0.0542 - val_accuracy: 0.9863\n",
            "Epoch 19/20\n",
            "748/748 [==============================] - 25s 33ms/step - loss: 0.0243 - accuracy: 0.9913 - val_loss: 0.0529 - val_accuracy: 0.9860\n",
            "Epoch 20/20\n",
            "748/748 [==============================] - 26s 34ms/step - loss: 0.0235 - accuracy: 0.9920 - val_loss: 0.0574 - val_accuracy: 0.9844\n"
          ]
        }
      ]
    },
    {
      "cell_type": "markdown",
      "source": [
        "- We are training the neural network on the training data (X_train and y_train) for a specified number of epochs (10 in this case).\n",
        "- During training, the model adjusts its weights based on the optimization algorithm (in this case, 'adam') and minimizes the specified loss function ('categorical_crossentropy'). The training process aims to improve the model's ability to make accurate predictions on both the training and validation data.\n",
        "- The training history is stored in the history variable, which can be used to visualize and analyze the model's performance over the training epochs. This includes information about the training and validation loss and accuracy at each epoch, which can be helpful for assessing model convergence and potential overfitting."
      ],
      "metadata": {
        "id": "9wchpRWGNjgC"
      }
    },
    {
      "cell_type": "markdown",
      "source": [
        "# Model Evaluation"
      ],
      "metadata": {
        "id": "A5eKscqDNpUU"
      }
    },
    {
      "cell_type": "code",
      "source": [
        "# Evaluate the model\n",
        "test_loss, test_acc = model.evaluate(X_test, y_test)\n",
        "print(f\"Test Accuracy: {test_acc}\")"
      ],
      "metadata": {
        "colab": {
          "base_uri": "https://localhost:8080/"
        },
        "id": "no9XBmeRMlyg",
        "outputId": "54bd356b-9008-4f96-8172-75111c2fe8c6"
      },
      "execution_count": 46,
      "outputs": [
        {
          "output_type": "stream",
          "name": "stdout",
          "text": [
            "187/187 [==============================] - 2s 9ms/step - loss: 0.0574 - accuracy: 0.9844\n",
            "Test Accuracy: 0.9844481348991394\n"
          ]
        }
      ]
    },
    {
      "cell_type": "markdown",
      "source": [
        "- The output shows that the test accuracy is approximately **99.31%**. This accuracy indicates the proportion of correctly classified typefaces in the test set.\n",
        "- The test loss, which is 0.0424 in this case, represents the model's performance in terms of how close its predictions are to the true labels. Lower values of test loss generally indicate better performance.\n",
        "\n",
        "In summary, the high test accuracy and low test loss suggest that the trained model is effective in classifying typefaces based on the provided dataset. These evaluation metrics provide insights into the model's generalization performance on new, unseen data."
      ],
      "metadata": {
        "id": "BZ84-TQ99DMC"
      }
    },
    {
      "cell_type": "code",
      "source": [
        "# Plot training history\n",
        "plt.plot(history.history['accuracy'], label='accuracy')\n",
        "plt.plot(history.history['val_accuracy'], label = 'val_accuracy')\n",
        "plt.xlabel('Epoch')\n",
        "plt.ylabel('Accuracy')\n",
        "plt.ylim([0, 1])\n",
        "plt.legend(loc='lower right')\n",
        "plt.show()\n",
        "\n",
        "# Plot the training and validation loss over the epochs\n",
        "plt.plot(history.history['loss'])\n",
        "plt.plot(history.history['val_loss'])\n",
        "plt.title('Model loss')"
      ],
      "metadata": {
        "colab": {
          "base_uri": "https://localhost:8080/",
          "height": 907
        },
        "id": "1TBltABocGIh",
        "outputId": "99ce3ed7-50d2-4268-9def-6117a5030c0a"
      },
      "execution_count": 56,
      "outputs": [
        {
          "output_type": "display_data",
          "data": {
            "text/plain": [
              "<Figure size 640x480 with 1 Axes>"
            ],
            "image/png": "[encoded data removed]"
          },
          "metadata": {}
        },
        {
          "output_type": "execute_result",
          "data": {
            "text/plain": [
              "Text(0.5, 1.0, 'Model loss')"
            ]
          },
          "metadata": {},
          "execution_count": 56
        },
        {
          "output_type": "display_data",
          "data": {
            "text/plain": [
              "<Figure size 640x480 with 1 Axes>"
            ],
            "image/png": "[encoded data removed]"
          },
          "metadata": {}
        }
      ]
    },
    {
      "cell_type": "code",
      "source": [
        "# Make predictions\n",
        "predictions = model.predict(X_test)"
      ],
      "metadata": {
        "colab": {
          "base_uri": "https://localhost:8080/"
        },
        "id": "fKdZtdJ09ez5",
        "outputId": "3ff7b564-5b42-4b94-fd21-6b6fe8cdb353"
      },
      "execution_count": 36,
      "outputs": [
        {
          "output_type": "stream",
          "name": "stdout",
          "text": [
            "187/187 [==============================] - 2s 10ms/step\n"
          ]
        }
      ]
    },
    {
      "cell_type": "markdown",
      "source": [
        "After running this code, the variable predictions will contain an array of predicted probabilities for each test image across all the different typefaces. The next steps would involve evaluating these predictions."
      ],
      "metadata": {
        "id": "nwTMmF4g_d5S"
      }
    },
    {
      "cell_type": "code",
      "source": [
        "# Example: Print the predicted label for the first test image\n",
        "predicted_label = np.argmax(predictions[0])\n",
        "print(f\"Predicted Label: {predicted_label}\")"
      ],
      "metadata": {
        "colab": {
          "base_uri": "https://localhost:8080/"
        },
        "id": "wZcmPR5T_VjT",
        "outputId": "779bff6e-5b4c-4489-8c12-418a0da5aadf"
      },
      "execution_count": 37,
      "outputs": [
        {
          "output_type": "stream",
          "name": "stdout",
          "text": [
            "Predicted Label: 3\n"
          ]
        }
      ]
    },
    {
      "cell_type": "markdown",
      "source": [
        "- Since the typefaces are represented by numerical labels, the index corresponds to the predicted typeface for the given image.\n",
        "- In this specific example, the output indicates that the model predicts the label 3 for the first test image."
      ],
      "metadata": {
        "id": "zaPSD3ngAeXc"
      }
    },
    {
      "cell_type": "code",
      "source": [
        "# Predict the values from the test dataset\n",
        "y_pred = model.predict(X_test)\n",
        "# Convert predictions classes to one hot vectors\n",
        "y_pred_classes = np.argmax(y_pred, axis=1)\n",
        "# Convert test observations to one hot vectors\n",
        "y_true = np.argmax(y_test, axis=1)\n",
        "\n",
        "# compute the confusion matrix\n",
        "conf_matrix = confusion_matrix(y_true, y_pred_classes)\n",
        "\n",
        "# plot the confusion matrix\n",
        "plt.figure(figsize=(10, 8))\n",
        "sns.heatmap(conf_matrix, annot=True, fmt='d', cmap='Blues')\n",
        "plt.title('Confusion Matrix')\n",
        "plt.ylabel('True Label')\n",
        "plt.xlabel('Predicted Label')\n",
        "plt.show()"
      ],
      "metadata": {
        "colab": {
          "base_uri": "https://localhost:8080/",
          "height": 735
        },
        "id": "Qkzjm-MKgYif",
        "outputId": "0332237b-32bf-4e6f-f8aa-d1fdc5c77f53"
      },
      "execution_count": 61,
      "outputs": [
        {
          "output_type": "stream",
          "name": "stdout",
          "text": [
            "187/187 [==============================] - 2s 8ms/step\n"
          ]
        },
        {
          "output_type": "display_data",
          "data": {
            "text/plain": [
              "<Figure size 1000x800 with 2 Axes>"
            ],
            "image/png": "[encoded data removed]"
          },
          "metadata": {}
        }
      ]
    },
    {
      "cell_type": "markdown",
      "source": [
        "This code generates a confusion matrix based on the predicted and true labels of a classification model.\n",
        "\n",
        "It first converts predicted probabilities to class predictions and true labels to one-hot encoded vectors. The confusion matrix is then computed using the `confusion_matrix` function from `sklearn.metrics`.\n",
        "\n",
        "Afterward, the confusion matrix is visualized using a heatmap from Seaborn, where each cell represents the count of samples falling into that category. The x-axis displays the predicted labels, and the y-axis shows the true labels. The heatmap is color-coded to illustrate the density of samples in each cell, with lighter colors indicating higher density."
      ],
      "metadata": {
        "id": "N3OFgxvDhOxa"
      }
    },
    {
      "cell_type": "code",
      "source": [
        "# Visualize the first test image\n",
        "plt.figure()\n",
        "plt.imshow(X_test[0].reshape(28, 28), cmap='gray')\n",
        "plt.title(f\"True Label: {y_test[0]}, Predicted Label: {predicted_label}\")\n",
        "plt.show()"
      ],
      "metadata": {
        "colab": {
          "base_uri": "https://localhost:8080/",
          "height": 452
        },
        "id": "1bzwH-DXAbTc",
        "outputId": "02fa7ab8-1c66-4948-b936-8613f42f994f"
      },
      "execution_count": 38,
      "outputs": [
        {
          "output_type": "display_data",
          "data": {
            "text/plain": [
              "<Figure size 640x480 with 1 Axes>"
            ],
            "image/png": "[encoded data removed]"
          },
          "metadata": {}
        }
      ]
    },
    {
      "cell_type": "markdown",
      "source": [
        "The above result shows that our predicted label was correct."
      ],
      "metadata": {
        "id": "3i22g-vsAo_X"
      }
    },
    {
      "cell_type": "markdown",
      "source": [
        "In conclusion, we've successfully built a neural network-based classification model for the TMNIST dataset using Python libraries such as pandas, numpy, matplotlib, TensorFlow, and Keras. This comprehensive process, from data exploration to model evaluation and visualization, has yielded an impressive accuracy of 98.44%.\n",
        "\n",
        "Our model's ability to accurately classify diverse images underscores the effectiveness of employing suitable activation functions and preprocessing techniques, making it well-suited for various classification tasks and offering valuable insights for similar model development and evaluation."
      ],
      "metadata": {
        "id": "TjY3C4KniooY"
      }
    },
    {
      "cell_type": "markdown",
      "source": [
        "#References"
      ],
      "metadata": {
        "id": "TiHelpL0jShl"
      }
    },
    {
      "cell_type": "markdown",
      "source": [
        "Neural Network: https://news.mit.edu/2017/explained-neural-networks-deep-learning-0414\n",
        "\n",
        "Neural Network: https://www.techtarget.com/searchenterpriseai/definition/neural-network\n",
        "\n",
        "Neural Network Classification: https://towardsdatascience.com/a-brief-introduction-to-neural-networks-a-classification-problem-43e68c770081\n",
        "\n",
        "\n",
        "Geeks for Geeks : https://www.geeksforgeeks.org/adam-optimizer-in-tensorflow/"
      ],
      "metadata": {
        "id": "kV-CtRSfjUb0"
      }
    },
    {
      "cell_type": "markdown",
      "source": [
        "#Licensing"
      ],
      "metadata": {
        "id": "vTxJZStskDe4"
      }
    },
    {
      "cell_type": "markdown",
      "source": [
        "MIT License\n",
        "\n",
        "Copyright (c) 2024 Adarsh Pathak\n",
        "\n",
        "Permission is hereby granted, free of charge, to any person obtaining a copy of this software and associated documentation files (the \"Software\"), to deal in the Software without restriction, including without limitation the rights to use, copy, modify, merge, publish, distribute, sublicense, and/or sell copies of the Software, and to permit persons to whom the Software is furnished to do so, subject to the following conditions:\n",
        "\n",
        "The above copyright notice and this permission notice shall be included in all copies or substantial portions of the Software.\n",
        "\n",
        "THE SOFTWARE IS PROVIDED \"AS IS\", WITHOUT WARRANTY OF ANY KIND, EXPRESS OR IMPLIED, INCLUDING BUT NOT LIMITED TO THE WARRANTIES OF MERCHANTABILITY, FITNESS FOR A PARTICULAR PURPOSE AND NONINFRINGEMENT. IN NO EVENT SHALL THE AUTHORS OR COPYRIGHT HOLDERS BE LIABLE FOR ANY CLAIM, DAMAGES OR OTHER LIABILITY, WHETHER IN AN ACTION OF CONTRACT, TORT OR OTHERWISE, ARISING FROM, OUT OF OR IN CONNECTION WITH THE SOFTWARE OR THE USE OR OTHER DEALINGS IN THE SOFTWARE."
      ],
      "metadata": {
        "id": "qKKrJmnCkOmn"
      }
    },
    {
      "cell_type": "code",
      "source": [],
      "metadata": {
        "id": "X0HrMl6GinUg"
      },
      "execution_count": null,
      "outputs": []
    }
  ]
}